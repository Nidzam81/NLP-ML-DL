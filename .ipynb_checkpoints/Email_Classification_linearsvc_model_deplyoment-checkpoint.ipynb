{
 "cells": [
  {
   "cell_type": "code",
   "execution_count": null,
   "metadata": {},
   "outputs": [],
   "source": [
    "import pickle\n",
    "import pickle\n",
    "import pandas as pd\n",
    "\n",
    "# load our trained model vocabulary\n",
    "tf1 = pickle.load(open(\"vocab_colab.pkl\", 'rb'))"
   ]
  },
  {
   "cell_type": "code",
   "execution_count": null,
   "metadata": {
    "colab": {
     "base_uri": "https://localhost:8080/",
     "height": 34
    },
    "id": "B2VLSpAXO6OA",
    "outputId": "ba4f54d6-a8b3-451c-b396-34d31db29ade"
   },
   "outputs": [],
   "source": [
    "from sklearn.feature_extraction.text import TfidfVectorizer\n",
    "\n",
    "tfidf = TfidfVectorizer(sublinear_tf=True, \n",
    "                        min_df=1, norm='l2', \n",
    "                        encoding='latin-1', \n",
    "                        ngram_range=(1, 2), \n",
    "                        stop_words='english',\n",
    "                        #max_features = 2000,\n",
    "                        vocabulary = tf1)\n"
   ]
  },
  {
   "cell_type": "code",
   "execution_count": null,
   "metadata": {},
   "outputs": [],
   "source": [
    "#load mapping\n",
    "map = pd.read_csv(\"mapping.csv\")\n",
    "map['0']"
   ]
  },
  {
   "cell_type": "code",
   "execution_count": null,
   "metadata": {
    "id": "AhDac4o5Xk1S"
   },
   "outputs": [],
   "source": [
    "# load the model from disk\n",
    "from sklearn.feature_extraction.text import TfidfVectorizer\n",
    "filename = r'finalized_model_colab.sav'\n",
    "loaded_model = pickle.load(open(filename, 'rb'))"
   ]
  },
  {
   "cell_type": "code",
   "execution_count": null,
   "metadata": {},
   "outputs": [],
   "source": [
    "input = ['Account ID:  ’\\nUSER Name : TAN \\nHi  seems my User ID been locked\\nPlease assist and reset password.\\n Thanks & Regards ']\n",
    "x=tfidf.fit_transform(input)\n",
    "x.shape\n",
    "predicted=loaded_model.predict(x)\n",
    "print(predicted[0])\n",
    "print(map[str(predicted[0])][0])"
   ]
  }
 ],
 "metadata": {
  "accelerator": "GPU",
  "colab": {
   "collapsed_sections": [],
   "name": "London Market Email Classification - sckitlearn.ipynb",
   "provenance": [],
   "toc_visible": true
  },
  "kernelspec": {
   "display_name": "venv",
   "language": "python",
   "name": "venv"
  },
  "language_info": {
   "codemirror_mode": {
    "name": "ipython",
    "version": 3
   },
   "file_extension": ".py",
   "mimetype": "text/x-python",
   "name": "python",
   "nbconvert_exporter": "python",
   "pygments_lexer": "ipython3",
   "version": "3.7.3"
  }
 },
 "nbformat": 4,
 "nbformat_minor": 4
}
