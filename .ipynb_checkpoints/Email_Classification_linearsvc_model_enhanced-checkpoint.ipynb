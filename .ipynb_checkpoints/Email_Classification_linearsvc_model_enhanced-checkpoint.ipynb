{
 "cells": [
  {
   "cell_type": "code",
   "execution_count": null,
   "metadata": {},
   "outputs": [],
   "source": [
    "from sklearn.svm import LinearSVC\n",
    "from sklearn.pipeline import make_pipeline\n",
    "from sklearn.preprocessing import StandardScaler\n",
    "from sklearn.datasets import make_classification\n",
    "import pandas as pd\n",
    "from io import StringIO\n",
    "import pickle\n",
    "import pickle\n",
    "import pandas as pd\n",
    "from sklearn.feature_extraction.text import TfidfVectorizer\n",
    "from sklearn.calibration import CalibratedClassifierCV\n"
   ]
  },
  {
   "cell_type": "markdown",
   "metadata": {},
   "source": [
    "## Data pre-processing"
   ]
  },
  {
   "cell_type": "code",
   "execution_count": null,
   "metadata": {},
   "outputs": [],
   "source": [
    "#get raw data\n",
    "#file name has been changed due to production data\n",
    "df = pd.ExcelFile('emailclassification_data.xlsx')\n",
    "df = df.parse('sheet_name',index_col=None, na_values=['NA'])\n",
    "df=df[['TemplateGUID','Notes']]\n",
    "\n",
    "# dropping ALL duplicte values \n",
    "df=df.drop_duplicates()\n",
    "df=df.dropna()\n",
    "\n",
    "#Get mapping\n",
    "df2 = pd.ExcelFile('ID-categoryname_mapping.xlsx')\n",
    "df2 = df2.parse('Sheet1')\n",
    "df2 = df2[['Template name','Template GUID']]\n",
    "\n",
    "#map GUID and template name\n",
    "name_list = []\n",
    "for row in df.TemplateGUID:\n",
    "  flag = False\n",
    "  for index, name in df2.iterrows():\n",
    "    #print(row)\n",
    "    if row == name['Template GUID']:\n",
    "      flag = True\n",
    "      break\n",
    "  if flag == True:\n",
    "    name_list.append(name['Template name'])\n",
    "  else:\n",
    "    name_list.append(\"No template name found\")\n",
    "\n",
    "df['TemplateName'] = name_list\n",
    "df_final = df[['TemplateName','Notes','TemplateGUID']] \n",
    "df_final.head()\n"
   ]
  },
  {
   "cell_type": "markdown",
   "metadata": {},
   "source": [
    "## Load model"
   ]
  },
  {
   "cell_type": "code",
   "execution_count": null,
   "metadata": {},
   "outputs": [],
   "source": [
    "# Testing phase\n",
    "tf1 = pickle.load(open(r\"vocab_colab_enhance.pkl\", 'rb'))\n",
    "tfidf = TfidfVectorizer(sublinear_tf=True, \n",
    "                        min_df=1, norm='l2', \n",
    "                        encoding='latin-1', \n",
    "                        ngram_range=(1, 2), \n",
    "                        stop_words='english',\n",
    "                        #max_features = 2000,\n",
    "                        vocabulary = tf1)\n",
    "#load mapping\n",
    "map = pd.read_csv(r'mapping.csv',header=None)\n",
    "# load the model from disk\n",
    "filename = r'finalized_model_colab_enhance.sav'\n",
    "loaded_model = pickle.load(open(filename, 'rb'))"
   ]
  },
  {
   "cell_type": "code",
   "execution_count": null,
   "metadata": {},
   "outputs": [],
   "source": [
    "for i in range(20):\n",
    "    print(map[map[1]==i][0].item())"
   ]
  },
  {
   "cell_type": "markdown",
   "metadata": {},
   "source": [
    "## Run prediction"
   ]
  },
  {
   "cell_type": "code",
   "execution_count": null,
   "metadata": {},
   "outputs": [],
   "source": [
    "predicted_value = []\n",
    "for note in df_final.Notes:\n",
    "    input = [note]\n",
    "    #input = ['Account ID:  ’\\nUSER Name : TAN \\nHi  seems my User ID been locked\\nPlease assist and reset password.\\n Thanks & Regards ']\n",
    "    x=tfidf.fit_transform(input)\n",
    "    x.shape\n",
    "    predicted=loaded_model.predict(x)\n",
    "#     print(predicted[0])\n",
    "#     print(map[map[1]==predicted[0]][0].item())\n",
    "    predicted_result=map[map[1]==predicted[0]][0].item()\n",
    "    predicted_value.append(predicted_result)\n",
    "    #predicted_value.append(map[str(predicted[0])][0])\n",
    "df_final[\"Predicted Class\"] = predicted_value"
   ]
  },
  {
   "cell_type": "code",
   "execution_count": null,
   "metadata": {},
   "outputs": [],
   "source": [
    "df_final.head()"
   ]
  },
  {
   "cell_type": "code",
   "execution_count": null,
   "metadata": {},
   "outputs": [],
   "source": [
    "df_final.groupby([\"TemplateName\", \"Predicted Class\"]).size()"
   ]
  },
  {
   "cell_type": "code",
   "execution_count": null,
   "metadata": {},
   "outputs": [],
   "source": [
    "sum = 0\n",
    "for index,row in df_final.iterrows():\n",
    "    if row['TemplateName']== row['Predicted Class']:\n",
    "        sum = sum+1\n",
    "\n",
    "lenght = len(df_final)\n",
    "accuracy = sum/lenght\n",
    "perc = accuracy * 100.0\n",
    "\"Prediction accuracy = {:.2f} %\".format(perc) \n",
    "    "
   ]
  },
  {
   "attachments": {
    "ONxTh%5B1%5D.png": {
     "image/png": "[encoded data removed]"
    }
   },
   "cell_type": "markdown",
   "metadata": {},
   "source": [
    "## Using score value: does this improve accuracy? \n",
    "  \n",
    "### The confidence score for a sample is the signed distance of that sample to the hyperplane.\n",
    "### Example  \n",
    "<!-- <img> <src=\"https://i.stack.imgur.com/ONxTh.png\" width =\"500\" height=500 > -->\n",
    "![ONxTh%5B1%5D.png](attachment:ONxTh%5B1%5D.png)"
   ]
  },
  {
   "cell_type": "markdown",
   "metadata": {},
   "source": [
    "## Production Simulation based on score"
   ]
  },
  {
   "cell_type": "code",
   "execution_count": null,
   "metadata": {},
   "outputs": [],
   "source": [
    "import numpy as np\n",
    "predicted_value = []\n",
    "score_value = []\n",
    "score_bench = 0.1\n",
    "\n",
    "for note in df_final.Notes:\n",
    "    input = [note]\n",
    "    x=tfidf.fit_transform(input)\n",
    "    x.shape\n",
    "    predicted=loaded_model.predict(x)\n",
    "    score = loaded_model._predict_proba_lr(x)\n",
    "    score = pd.DataFrame(score)\n",
    "    score = score[predicted[0]].item()\n",
    "    if score > score_bench:\n",
    "        predicted_result=map[map[1]==predicted[0]][0].item()\n",
    "        predicted_value.append(predicted_result)        \n",
    "    else:\n",
    "        predicted_value.append(\"not classified\")\n",
    "    score_value.append(score)\n",
    "df_final[\"Predicted Class\"] = predicted_value\n",
    "df_final[\"Score\"] = score_value\n",
    "df_final_filter_score = df_final[df_final[\"Predicted Class\"]!= \"not classified\"]\n",
    "sum = 0\n",
    "for index,row in df_final_filter_score.iterrows():\n",
    "    if row['TemplateName']== row['Predicted Class']:\n",
    "        sum = sum+1\n",
    "\n",
    "lenght = len(df_final_filter_score)\n",
    "accuracy = sum/lenght\n",
    "perc = accuracy * 100.0\n",
    "print(\"Prediction accuracy = {:.2f} %\".format(perc))\n",
    "print(\"classified record: \", len(df_final_filter_score))\n",
    "print(\"unclassified record: \",len(df_final)-len(df_final_filter_score))\n",
    "print(\"total record: \",len(df_final))\n",
    " "
   ]
  },
  {
   "cell_type": "markdown",
   "metadata": {},
   "source": [
    "### From experiment result, the accuracy is greatly effected by the untrained class that we have in the data set."
   ]
  },
  {
   "cell_type": "code",
   "execution_count": null,
   "metadata": {},
   "outputs": [],
   "source": []
  }
 ],
 "metadata": {
  "accelerator": "GPU",
  "colab": {
   "collapsed_sections": [],
   "name": "London Market Email Classification - sckitlearn.ipynb",
   "provenance": [],
   "toc_visible": true
  },
  "kernelspec": {
   "display_name": "venv",
   "language": "python",
   "name": "venv"
  },
  "language_info": {
   "codemirror_mode": {
    "name": "ipython",
    "version": 3
   },
   "file_extension": ".py",
   "mimetype": "text/x-python",
   "name": "python",
   "nbconvert_exporter": "python",
   "pygments_lexer": "ipython3",
   "version": "3.7.3"
  }
 },
 "nbformat": 4,
 "nbformat_minor": 4
}
